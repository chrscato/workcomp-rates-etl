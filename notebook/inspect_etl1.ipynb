{
 "cells": [
  {
   "cell_type": "code",
   "execution_count": 8,
   "id": "d9c77a4e",
   "metadata": {},
   "outputs": [
    {
     "name": "stdout",
     "output_type": "stream",
     "text": [
      "shape: (2, 15)\n",
      "┌────────────┬───────┬────────────┬────────────┬───┬───────────┬───────────┬───────────┬───────────┐\n",
      "│ fact_uid   ┆ state ┆ year_month ┆ payer_slug ┆ … ┆ negotiate ┆ expiratio ┆ provider_ ┆ reporting │\n",
      "│ ---        ┆ ---   ┆ ---        ┆ ---        ┆   ┆ d_rate    ┆ n_date    ┆ group_id_ ┆ _entity_n │\n",
      "│ str        ┆ str   ┆ str        ┆ str        ┆   ┆ ---       ┆ ---       ┆ raw       ┆ ame       │\n",
      "│            ┆       ┆            ┆            ┆   ┆ f64       ┆ str       ┆ ---       ┆ ---       │\n",
      "│            ┆       ┆            ┆            ┆   ┆           ┆           ┆ str       ┆ str       │\n",
      "╞════════════╪═══════╪════════════╪════════════╪═══╪═══════════╪═══════════╪═══════════╪═══════════╡\n",
      "│ d023eebdae ┆ GA    ┆ 2025-08    ┆ unitedheal ┆ … ┆ 608.27    ┆ 9999-12-3 ┆ 584       ┆ UnitedHea │\n",
      "│ 2fec46f917 ┆       ┆            ┆ thcare-of- ┆   ┆           ┆ 1         ┆           ┆ lthcare   │\n",
      "│ 9ab625c678 ┆       ┆            ┆ georgia-in ┆   ┆           ┆           ┆           ┆ of        │\n",
      "│ …          ┆       ┆            ┆ …          ┆   ┆           ┆           ┆           ┆ Georgia   │\n",
      "│            ┆       ┆            ┆            ┆   ┆           ┆           ┆           ┆ In…       │\n",
      "│ 5f8783b3c2 ┆ GA    ┆ 2025-08    ┆ unitedheal ┆ … ┆ 1051.15   ┆ 9999-12-3 ┆ 282       ┆ UnitedHea │\n",
      "│ eadafc80af ┆       ┆            ┆ thcare-of- ┆   ┆           ┆ 1         ┆           ┆ lthcare   │\n",
      "│ 9f47a3bcec ┆       ┆            ┆ georgia-in ┆   ┆           ┆           ┆           ┆ of        │\n",
      "│ …          ┆       ┆            ┆ …          ┆   ┆           ┆           ┆           ┆ Georgia   │\n",
      "│            ┆       ┆            ┆            ┆   ┆           ┆           ┆           ┆ In…       │\n",
      "└────────────┴───────┴────────────┴────────────┴───┴───────────┴───────────┴───────────┴───────────┘\n",
      "['fact_uid', 'state', 'year_month', 'payer_slug', 'billing_class', 'code_type', 'code', 'pg_uid', 'pos_set_id', 'negotiated_type', 'negotiation_arrangement', 'negotiated_rate', 'expiration_date', 'provider_group_id_raw', 'reporting_entity_name']\n",
      "5959217\n"
     ]
    }
   ],
   "source": [
    "import polars as pl\n",
    "from pathlib import Path\n",
    "\n",
    "DS_ROOT = Path(\"c:/Users/ChristopherCato/OneDrive - clarity-dx.com/code/bph/workcomp-rates-etl\")\n",
    "fact_path = DS_ROOT / \"data/gold/fact_rate.parquet\"\n",
    "\n",
    "if not fact_path.exists():\n",
    "    print(f\"❌ File not found: {fact_path}\")\n",
    "    print(\"Please check that the file exists and the path is correct.\")\n",
    "else:\n",
    "    fact_df = pl.read_parquet(fact_path)\n",
    "    print(fact_df.head(2))\n",
    "    print(fact_df.columns)\n",
    "    print(len(fact_df))"
   ]
  },
  {
   "cell_type": "code",
   "execution_count": null,
   "id": "6af1755b",
   "metadata": {},
   "outputs": [
    {
     "name": "stdout",
     "output_type": "stream",
     "text": [
      "distinct payer_slugs: shape: (2,)\n",
      "Series: 'payer_slug' [str]\n",
      "[\n",
      "\t\"unitedhealthcare-of-georgia-in…\n",
      "\t\"aetna-health-inc-georgia\"\n",
      "]\n"
     ]
    },
    {
     "data": {
      "text/plain": [
       "<function print(*args, sep=' ', end='\\n', file=None, flush=False)>"
      ]
     },
     "execution_count": 10,
     "metadata": {},
     "output_type": "execute_result"
    }
   ],
   "source": [
    "print(f\"distinct payer_slugs: {fact_df['payer_slug'].unique()}\")"
   ]
  }
 ],
 "metadata": {
  "kernelspec": {
   "display_name": "Python 3",
   "language": "python",
   "name": "python3"
  },
  "language_info": {
   "codemirror_mode": {
    "name": "ipython",
    "version": 3
   },
   "file_extension": ".py",
   "mimetype": "text/x-python",
   "name": "python",
   "nbconvert_exporter": "python",
   "pygments_lexer": "ipython3",
   "version": "3.13.2"
  }
 },
 "nbformat": 4,
 "nbformat_minor": 5
}
